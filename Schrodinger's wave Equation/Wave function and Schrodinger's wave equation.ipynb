{
 "cells": [
  {
   "cell_type": "code",
   "execution_count": 1,
   "metadata": {},
   "outputs": [],
   "source": [
    "import math\n",
    "\n",
    "#We'll be taking psi = A sin kx and the probability distribution of the same.\n",
    "\n",
    "def wave_function(L, n):\n",
    "    output = []\n",
    "    Amplitude = math.sqrt(2)/L\n",
    "    for j in range(0,360):\n",
    "        output.append(Amplitude*math.sin((n*math.pi*j)/L))\n",
    "    return output\n",
    "\n",
    "#Returns the squared values\n",
    "def wave_probability(L,n):\n",
    "    val =  [i**2 for i in wave_function(L,n)]\n",
    "    return val\n"
   ]
  },
  {
   "cell_type": "code",
   "execution_count": 2,
   "metadata": {},
   "outputs": [],
   "source": [
    "def subplotter(plots, boundary, function):\n",
    "    import matplotlib.pyplot as plt\n",
    "    %matplotlib inline\n",
    "    fig, ax = plt.subplots(plots)\n",
    "    for i in range(1,plots+1):\n",
    "        ax[i-1].plot(function(boundary,i))\n",
    "\n",
    "def multiple_wave_plot(plots, boundary, function):\n",
    "    import matplotlib.pyplot as plt\n",
    "    %matplotlib inline\n",
    "    for i in range(1,plots+1):\n",
    "        plt.plot(function(boundary, i))\n",
    "\n",
    "\n"
   ]
  },
  {
   "cell_type": "code",
   "execution_count": 3,
   "metadata": {},
   "outputs": [],
   "source": [
    "#This mode runs it in QT mode and it is not possible to do this in Google Collab\n",
    "\n",
    "def subplotter_local(plots, boundary, function):\n",
    "    import matplotlib.pyplot as plt\n",
    "    %matplotlib qt\n",
    "    fig, ax = plt.subplots(plots)\n",
    "    for i in range(1,plots+1):\n",
    "        ax[i-1].plot(function(boundary,i))\n",
    "\n",
    "def multiple_wave_plot_local(plots, boundary, function):\n",
    "    import matplotlib.pyplot as plt\n",
    "    %matplotlib qt\n",
    "    for i in range(1,plots+1):\n",
    "        plt.plot(function(boundary, i))"
   ]
  },
  {
   "cell_type": "code",
   "execution_count": 6,
   "metadata": {},
   "outputs": [],
   "source": [
    "#To test this, call the function of your choice -> Subplot or multiple Plot\n",
    "#Pass the appropriate wave function as the last parameter that is\n",
    "#Let us say I want to plot 10 levels of wave function with the boundary of the 1-D box as 100\n",
    "#You run subplotter(10,100,wave_probability)\n",
    "#Similarly you can play around with the functions made here"
   ]
  },
  {
   "cell_type": "code",
   "execution_count": null,
   "metadata": {},
   "outputs": [],
   "source": []
  }
 ],
 "metadata": {
  "kernelspec": {
   "display_name": "Python 3",
   "language": "python",
   "name": "python3"
  },
  "language_info": {
   "codemirror_mode": {
    "name": "ipython",
    "version": 3
   },
   "file_extension": ".py",
   "mimetype": "text/x-python",
   "name": "python",
   "nbconvert_exporter": "python",
   "pygments_lexer": "ipython3",
   "version": "3.8.5"
  }
 },
 "nbformat": 4,
 "nbformat_minor": 4
}
